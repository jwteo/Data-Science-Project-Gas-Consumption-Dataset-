{
 "cells": [
  {
   "cell_type": "code",
   "execution_count": 1,
   "metadata": {
    "id": "-TO0-c8LOKY6"
   },
   "outputs": [
    {
     "name": "stderr",
     "output_type": "stream",
     "text": [
      "C:\\Users\\S9632298D\\Anaconda3\\lib\\site-packages\\statsmodels\\tools\\_testing.py:19: FutureWarning: pandas.util.testing is deprecated. Use the functions in the public API at pandas.testing instead.\n",
      "  import pandas.util.testing as tm\n"
     ]
    }
   ],
   "source": [
    "import pandas as pd\n",
    "from pandas import Series \n",
    "import numpy as np\n",
    "import matplotlib.pyplot as plt\n",
    "%matplotlib inline\n",
    "import seaborn as sns\n",
    "sns.set()\n",
    "import collections\n",
    "from datetime import datetime\n",
    "import dateutil\n",
    "import scipy\n",
    "import sklearn.linear_model as lm\n",
    "from sklearn.metrics import mean_squared_error\n",
    "from sklearn import preprocessing\n",
    "import dateutil\n",
    "from dateutil.relativedelta import *\n",
    "from sklearn.preprocessing import MinMaxScaler\n",
    "from sklearn.svm import SVR\n",
    "from sklearn.model_selection import GridSearchCV\n",
    "from sklearn.model_selection import train_test_split\n",
    "import scipy.cluster.hierarchy as spc\n",
    "import math "
   ]
  },
  {
   "cell_type": "code",
   "execution_count": 2,
   "metadata": {
    "id": "SSqLvxXgOKY_"
   },
   "outputs": [],
   "source": [
    "df = pd.read_csv('./dataport-export_gas_oct2015-mar2016.csv')"
   ]
  },
  {
   "cell_type": "code",
   "execution_count": 3,
   "metadata": {
    "id": "JZLZdrmHOKZS"
   },
   "outputs": [],
   "source": [
    "#Using group dataframe for meter id and parse datetime with dateutil library\n",
    "df['localminute']=df['localminute'].apply(dateutil.parser.parse)\n",
    "\n",
    "group_df = df.groupby(['dataid'])"
   ]
  },
  {
   "cell_type": "code",
   "execution_count": 4,
   "metadata": {
    "id": "w7-s0rizOKZZ",
    "outputId": "8636bb19-9837-480f-c317-86e853b74a41",
    "scrolled": false
   },
   "outputs": [],
   "source": [
    "malfunction_meter_decrease = {}\n",
    "for meter,house in group_df:\n",
    "    prev_reading = 0\n",
    "    for n, meterval in enumerate(house[\"meter_value\"]):\n",
    "        if (prev_reading) > (meterval + 3):\n",
    "            malfunction_meter_decrease.setdefault(meter, [])\n",
    "            malfunction_meter_decrease[meter].append(str(house.iloc[n][\"localminute\"]))\n",
    "            \n",
    "        prev_reading = meterval  \n",
    "\n",
    "    "
   ]
  },
  {
   "cell_type": "code",
   "execution_count": 5,
   "metadata": {
    "id": "UibPJc6oOKZf",
    "outputId": "dad354cf-45fc-49ec-a002-d95e75168ed1"
   },
   "outputs": [],
   "source": [
    "malfunction_meter_not_reported={}\n",
    "\n",
    "for meter,group in group_df:    \n",
    "    time_diff=0    \n",
    "    for i in range(len(group['localminute'])):\n",
    "        if (i!=0):\n",
    "            time_diff=(group['localminute'].iloc[i]-group['localminute'].iloc[i-1]).total_seconds() / (3600*24) \n",
    "        if(time_diff>= 10):\n",
    "            malfunction_meter_not_reported[meter] = (str(house.iloc[n][\"localminute\"]))\n",
    "            break\n"
   ]
  },
  {
   "cell_type": "code",
   "execution_count": 6,
   "metadata": {
    "id": "PGftBkfzOKZm",
    "outputId": "a7b6c245-bbfb-4b8a-a321-2ed6d2fdf905",
    "scrolled": true
   },
   "outputs": [],
   "source": [
    "previous_meter = 0\n",
    "current_meter = 0\n",
    "previous_date = \"\"\n",
    "malfunction_sudden_increase = {}\n",
    "\n",
    "for meter, house in group_df:\n",
    "    for n, dt in enumerate(house['localminute']):   \n",
    "        current_meter = house.iloc[n][\"meter_value\"]\n",
    "        if n == 0:\n",
    "            previous_date = dt.date()\n",
    "            \n",
    "        if previous_date == dt.date():\n",
    "            previous_meter = house.iloc[n][\"meter_value\"]\n",
    "            previous_date = dt.date()\n",
    "               \n",
    "        else:\n",
    "            time = (dt.date() - previous_date)\n",
    "            day = (time.total_seconds()/(3600*24))\n",
    "            if (previous_meter - current_meter) / day > 600:\n",
    "                malfunction_sudden_increase.setdefault(meter, [])\n",
    "                malfunction_sudden_increase[meter].append(str(house.iloc[n][\"localminute\"]))\n",
    "            previous_date = dt.date()\n",
    "           "
   ]
  },
  {
   "cell_type": "code",
   "execution_count": 7,
   "metadata": {
    "id": "kuGqOw9dOKZr"
   },
   "outputs": [],
   "source": [
    "malfunction_little_readings = {}\n",
    "for meter,house in group_df:\n",
    "    if(len(house['meter_value'])< 200):\n",
    "        malfunction_little_readings[meter] = len(house['meter_value'])\n",
    "        "
   ]
  },
  {
   "cell_type": "code",
   "execution_count": 8,
   "metadata": {
    "id": "sh5NFIldOKZx"
   },
   "outputs": [],
   "source": [
    "malfunction = {**malfunction_meter_decrease, **malfunction_meter_not_reported, **malfunction_sudden_increase, **malfunction_little_readings}"
   ]
  },
  {
   "cell_type": "code",
   "execution_count": 9,
   "metadata": {
    "id": "04W1SbNXOKZ5",
    "outputId": "682d84fd-2f00-4ade-da14-5c8143bcde0f"
   },
   "outputs": [],
   "source": [
    "malfunction_remove = {**malfunction_sudden_increase, **malfunction_meter_decrease,**malfunction_little_readings} "
   ]
  },
  {
   "cell_type": "code",
   "execution_count": 10,
   "metadata": {
    "id": "v4wlCYPeOKaB",
    "outputId": "3e4351eb-efe4-4c0f-b955-7e6ac6548651"
   },
   "outputs": [],
   "source": [
    "#Keeping the functional meters and remove the malfunctioning meters\n",
    "no_malfunction = df[np.logical_not(df[\"dataid\"].isin(malfunction_remove))] \n",
    "\n",
    "house_ID = no_malfunction[\"dataid\"].unique()"
   ]
  },
  {
   "cell_type": "code",
   "execution_count": 11,
   "metadata": {
    "id": "FfwFMKvSOKaG",
    "outputId": "de37b147-8e77-46ab-fc2e-2c65601b7d77"
   },
   "outputs": [
    {
     "name": "stderr",
     "output_type": "stream",
     "text": [
      "C:\\Users\\S9632298D\\Anaconda3\\lib\\site-packages\\ipykernel_launcher.py:6: SettingWithCopyWarning: \n",
      "A value is trying to be set on a copy of a slice from a DataFrame.\n",
      "Try using .loc[row_indexer,col_indexer] = value instead\n",
      "\n",
      "See the caveats in the documentation: https://pandas.pydata.org/pandas-docs/stable/user_guide/indexing.html#returning-a-view-versus-a-copy\n",
      "  \n",
      "C:\\Users\\S9632298D\\Anaconda3\\lib\\site-packages\\ipykernel_launcher.py:7: SettingWithCopyWarning: \n",
      "A value is trying to be set on a copy of a slice from a DataFrame.\n",
      "Try using .loc[row_indexer,col_indexer] = value instead\n",
      "\n",
      "See the caveats in the documentation: https://pandas.pydata.org/pandas-docs/stable/user_guide/indexing.html#returning-a-view-versus-a-copy\n",
      "  import sys\n"
     ]
    }
   ],
   "source": [
    "hourly_data = {}\n",
    "group_no_malfunction=no_malfunction.groupby('dataid')\n",
    "\n",
    "for household in house_ID:\n",
    "    tmp_df = group_no_malfunction.get_group(household)\n",
    "    tmp_df['meter_value'] = tmp_df['meter_value'] - group_no_malfunction.get_group(household).meter_value.iloc[0]\n",
    "    tmp_df['localminute'] = pd.to_datetime(tmp_df['localminute'],utc = True)\n",
    "    tmp = tmp_df.resample('min', on='localminute',label='right').mean().interpolate(method='linear')\n",
    "    hourly_data[household] = tmp.resample('H').mean().interpolate(method = 'linear')\n",
    "    temp_hour = pd.DataFrame (hourly_data[household])\n",
    "\n",
    "    "
   ]
  },
  {
   "cell_type": "code",
   "execution_count": 12,
   "metadata": {
    "id": "usslYtjnOKaI"
   },
   "outputs": [],
   "source": [
    "hourly_data_df = pd.DataFrame()\n",
    "for key in hourly_data:\n",
    "    frame = [hourly_data_df, hourly_data[key]]\n",
    "    hourly_data_df = pd.concat(frame, axis=1)\n",
    "    \n",
    "hourly_data_df.drop([\"dataid\"], axis = 1, inplace = True)\n",
    "hourly_data_df.columns = hourly_data.keys()\n",
    "hourly_data_df = hourly_data_df.fillna(method='bfill')\n",
    "hourly_data_df = hourly_data_df.fillna(method='ffill')\n"
   ]
  },
  {
   "cell_type": "code",
   "execution_count": 13,
   "metadata": {
    "id": "yFSZsPNEOKaQ",
    "scrolled": true
   },
   "outputs": [],
   "source": [
    "correlation = hourly_data_df.corr()\n",
    "lowest_correlation_meter = {}\n",
    "correlation.reset_index()\n",
    "top_correlation_meter = {}\n",
    "\n",
    "for ID in house_ID:\n",
    "    top_correlation_meter[ID] = correlation.loc[ID].sort_values(ascending = False).index[1:6]\n",
    "    lowest_correlation_meter[ID] = correlation.loc[ID].sort_values(ascending = False).index[-5:]\n",
    "top_correlation_meter = pd.DataFrame(top_correlation_meter)\n",
    "lowest_correlation_meter = pd.DataFrame(lowest_correlation_meter)"
   ]
  },
  {
   "cell_type": "code",
   "execution_count": 14,
   "metadata": {
    "id": "BP-iPUmDYwEk"
   },
   "outputs": [],
   "source": [
    "def preprocessed_data(id):\n",
    "    train_sample = pd.DataFrame(hourly_data_df.iloc[:][id].values)\n",
    "    dataset_size = len(train_sample)\n",
    "    train_size = math.trunc(0.8 * dataset_size)\n",
    "    date = hourly_data_df.index\n",
    "    train_date = (date[:train_size][:, None]).astype('datetime64[h]')\n",
    "    test_date = (date[train_size:dataset_size][:, None]).astype('datetime64[h]')\n",
    "    train_data_duplicate = train_sample.iloc[:train_size]\n",
    "    test_data_duplicate = train_sample.iloc[train_size:]\n",
    "    train_data = train_sample.iloc[:train_size]\n",
    "    test_data = train_sample.iloc[train_size:]\n",
    "    new_date_range = np.array(list(pd.date_range('2016-04-01T05', periods=2200, freq='H')), dtype='datetime64')[:, None].astype(\"datetime64[h]\")\n",
    "    \n",
    "    return train_data, test_data, test_date, train_date, new_date_range, train_data_duplicate, test_data_duplicate"
   ]
  },
  {
   "cell_type": "markdown",
   "metadata": {
    "id": "qQElFaZ52K2L"
   },
   "source": [
    "# Question 3 : Further Analysis"
   ]
  },
  {
   "cell_type": "markdown",
   "metadata": {
    "id": "-I8KenDbxeA_"
   },
   "source": [
    "# 1. Dynamic Time Warping"
   ]
  },
  {
   "cell_type": "markdown",
   "metadata": {
    "id": "MlP1MSe_xeA_"
   },
   "source": [
    "Firstly our dataset is a time series dataset, it means that the data points are indexed in time order. \n",
    "\n",
    "For Time Series analysis, there will be times whereby the two time series are similar but they are misaligned in the time axis; so, if we use traditional Euclidean distance matching then it will produce a poor similarity score. Hence, this is where dynamic time warping algorithm can be used to measure the similarity or dissimilarity between the two temporal sequences or series that may varies in speed. It can be applied to many temporal sequences of video, audio and graphics data. It calculation typically involves converting the data into vectors; subsequently, calculating the optimal Euclidean distance between those points in the vector space which is known as the warping function. Following on, the warping function will then be applied to both the time series which will transform them into two new time series that are aligned in the time axis. Subsequently, the new optimal distance of each of the time series can then be represented using the distance matrix. Basically, it is used to measure the optimal match distance between two-time series. \n",
    "\n",
    "#### Why is Dynamic Time Warping useful in this case? \n",
    "\n",
    "Firstly, if we use Euclidean distance only for the measurement of the two time series; as a result, it will produce a poor similarity score as mentioned before. However, if DTW is used, the end result is a more intuitive similarity measure because DTW allows a non-linear alignment between the two time series. Essentially, this allows the similar shapes to match even if they are out of phase in the time axis. However, the time complexity for this algorithm is O(m x n) which might take awhile for large datasets.\n"
   ]
  },
  {
   "cell_type": "code",
   "execution_count": 15,
   "metadata": {
    "id": "ICaRnESlxeA_"
   },
   "outputs": [],
   "source": [
    "from tslearn.metrics import *\n",
    "from tslearn.preprocessing import *"
   ]
  },
  {
   "cell_type": "code",
   "execution_count": 16,
   "metadata": {
    "id": "xqy9SdOExeBB"
   },
   "outputs": [],
   "source": [
    "DTW_data = []\n",
    "temporary_list = []\n",
    "meter_ID = list(hourly_data_df.columns)\n",
    "for column in meter_ID:\n",
    "    for data in hourly_data_df.iloc[:][column].values:\n",
    "        temporary_list.append(data)\n",
    "        \n",
    "    DTW_data.append(temporary_list)\n",
    "    temporary_list = []\n"
   ]
  },
  {
   "cell_type": "code",
   "execution_count": null,
   "metadata": {
    "id": "JFqdB_AyxeBE"
   },
   "outputs": [],
   "source": [
    "DTW_data_normalized = TimeSeriesScalerMinMax(value_range=(0., 1.)).fit_transform(DTW_data)\n",
    "DTW_data_distance_matrix = cdist_dtw(DTW_data_normalized)"
   ]
  },
  {
   "cell_type": "code",
   "execution_count": null,
   "metadata": {
    "id": "HB2ku7zWxeBG",
    "outputId": "9b2fef67-5499-437f-c4ac-41ce8d2f09bf"
   },
   "outputs": [
    {
     "name": "stdout",
     "output_type": "stream",
     "text": [
      "[[0.         0.01758699 0.0227205  ... 0.07886956 0.21178758 0.04026311]\n",
      " [0.01758699 0.         0.02011592 ... 0.0838292  0.22784187 0.04324805]\n",
      " [0.0227205  0.02011592 0.         ... 0.08459003 0.19535389 0.03727973]\n",
      " ...\n",
      " [0.07886956 0.0838292  0.08459003 ... 0.         0.07024965 0.04772837]\n",
      " [0.21178758 0.22784187 0.19535389 ... 0.07024965 0.         0.12334409]\n",
      " [0.04026311 0.04324805 0.03727973 ... 0.04772837 0.12334409 0.        ]]\n"
     ]
    }
   ],
   "source": [
    "print(DTW_data_distance_matrix)"
   ]
  },
  {
   "cell_type": "markdown",
   "metadata": {
    "id": "MLgXfPTfxeBI"
   },
   "source": [
    "A brief description for distance matrix, also known as dissimilarity matrix, is a table that shows the distance between pairs of object. So, in our case we have 117 time series; therefore, the distance matrix will be a 117 x 117 matrix because each time series is compared with each of the time series to see their dissimilarity between each other. \n",
    "\n",
    "In conclusion for Dynamic Time Warping, we can see that the resulting diagonal of the distance matrix are all 0; the reason for that is because the matrix stores the pairwise distance of each time series which is the dissimilarity between the households.\n"
   ]
  },
  {
   "cell_type": "markdown",
   "metadata": {
    "id": "K_Yy70qVxeBI"
   },
   "source": [
    "# 2. Hierarchical Clustering"
   ]
  },
  {
   "cell_type": "markdown",
   "metadata": {
    "id": "I54d-DK7xeBI"
   },
   "source": [
    "Hierarchical clustering, H-clustering for short, refers to a series of processes which groups 2 items in a recurring manner. There are two kinds of algorithms but for this project, we would be focusing on the agglomerative technique. The Agglomerative algorithm occurs when a single item forms its own cluster and two of the most similar items would be grouped together. As it further accumulates, the similar items would then continue to be grouped, two at a time, till it becomes one cluster. Every step of the clusters can be represented and displayed in a dendrogram. Hence, in our project, we would be implementing H-clustering by correlating similar items in groups of two as it helps us to identify the possible variations of the data. Therefore, our team would be able to have a business model in order to create a forecast model for every cluster with the clustering results instead of having to create a model for every household.\n"
   ]
  },
  {
   "cell_type": "markdown",
   "metadata": {},
   "source": [
    "## Hierachical Clustering using Agglomerative Algorithm (Correlation Matrix)"
   ]
  },
  {
   "cell_type": "code",
   "execution_count": 17,
   "metadata": {
    "id": "HLgXbEUrxeBI"
   },
   "outputs": [],
   "source": [
    "correlation_matrix = 1 - correlation.values\n",
    "pw_distance = spc.distance.pdist(correlation_matrix)\n",
    "linkage_pw = spc.linkage(pw_distance, method='complete')\n",
    "index_pw = spc.fcluster(linkage_pw, 0.2 * pw_distance.max(), 'distance')"
   ]
  },
  {
   "cell_type": "code",
   "execution_count": 18,
   "metadata": {
    "id": "VrQ2kjBcxeBJ",
    "outputId": "aab5d046-8b7e-4916-c604-e204bb4a554b"
   },
   "outputs": [
    {
     "data": {
      "image/png": "[encoded data removed]",
      "text/plain": [
       "<Figure size 1440x1080 with 1 Axes>"
      ]
     },
     "metadata": {
      "needs_background": "light"
     },
     "output_type": "display_data"
    },
    {
     "name": "stdout",
     "output_type": "stream",
     "text": [
      "There are a total of 6 clusters. The information is as follows:\n",
      "Cluster 3: meters 739 6910 3635 1507 4352 1714 9849 5131 6412 7429 871 1086 1589 9631 2034 5275 7287 4296 252 8829 3039 9121 7741 7919 7674 4732 370 9295 3577 35 1697 4767 5785 7739 3367 5972 5439 114 9474 7460 9278 2018 9052 9956 8155 5636 4029 1791 1801 9729 1283 1792 3893 7682 2638 187 3723 5814 77 1619 4421 661 1042 4373 5484 2072 2461 744 1790 1800 2980 2094 5892 7900 8084 3527 3849 4356 2129 2965 2575 8086 1415 2233 6863 2470 3778 2378 6830 9766 4193 8703 4228 6505 5395 8059 7965 44 2945 2818 7016 3310 3918 8386 1103 5658\n",
      "Cluster 1: meters 4447 6578\n",
      "Cluster 2: meters 222 8467\n",
      "Cluster 6: meters 8967\n",
      "Cluster 4: meters 5317 3036 8244 9600 1403\n",
      "Cluster 5: meters 6673\n"
     ]
    }
   ],
   "source": [
    "def Dendrogram(linkage_pw, index_pw):\n",
    "    plt.subplots(figsize=(20,15))\n",
    "    dendrogram = spc.dendrogram(linkage_pw)\n",
    "    plt.title('Dendrogram', fontsize=35)\n",
    "    plt.xlabel('Meter ID', fontsize=35)\n",
    "    plt.ylabel('Distances', fontsize=35)\n",
    "\n",
    "    plt.xticks(fontsize=10, rotation=90)\n",
    "    plt.show()\n",
    "    \n",
    "    house_cluster = {}\n",
    "    for i in range(len(index_pw)):\n",
    "        if index_pw[i] not in house_cluster:\n",
    "            house_cluster[index_pw[i]] = \"\"\n",
    "    for i in range(len(index_pw)):\n",
    "            house_cluster[index_pw[i]] = house_cluster[index_pw[i]] + \" \" + str(correlation.columns[i])\n",
    "    print(f\"There are a total of {len(house_cluster)} clusters. The information is as follows:\")\n",
    "    for key, value in house_cluster.items():\n",
    "        print(f\"Cluster {key}: meters{value}\")\n",
    "        \n",
    "Dendrogram(linkage_pw, index_pw)"
   ]
  },
  {
   "cell_type": "markdown",
   "metadata": {
    "id": "pRJhCQ23xeBL"
   },
   "source": [
    "## Hierachical Clustering using Distance Matrix from Dynamic Time Warping (DTW)"
   ]
  },
  {
   "cell_type": "code",
   "execution_count": 19,
   "metadata": {
    "id": "fu5O5LHbxeBM",
    "outputId": "64fef315-3d2b-4dd5-fa14-5bec1ac3b7af"
   },
   "outputs": [
    {
     "ename": "NameError",
     "evalue": "name 'DTW_data_distance_matrix' is not defined",
     "output_type": "error",
     "traceback": [
      "\u001b[1;31m---------------------------------------------------------------------------\u001b[0m",
      "\u001b[1;31mNameError\u001b[0m                                 Traceback (most recent call last)",
      "\u001b[1;32m<ipython-input-19-2d241986ef74>\u001b[0m in \u001b[0;36m<module>\u001b[1;34m\u001b[0m\n\u001b[1;32m----> 1\u001b[1;33m \u001b[0mdtw_distance\u001b[0m \u001b[1;33m=\u001b[0m \u001b[0mspc\u001b[0m\u001b[1;33m.\u001b[0m\u001b[0mdistance\u001b[0m\u001b[1;33m.\u001b[0m\u001b[0mpdist\u001b[0m\u001b[1;33m(\u001b[0m\u001b[0mDTW_data_distance_matrix\u001b[0m\u001b[1;33m)\u001b[0m\u001b[1;33m\u001b[0m\u001b[1;33m\u001b[0m\u001b[0m\n\u001b[0m\u001b[0;32m      2\u001b[0m \u001b[0mdtw_linkage\u001b[0m \u001b[1;33m=\u001b[0m \u001b[0mspc\u001b[0m\u001b[1;33m.\u001b[0m\u001b[0mlinkage\u001b[0m\u001b[1;33m(\u001b[0m\u001b[0mdtw_distance\u001b[0m\u001b[1;33m,\u001b[0m \u001b[0mmethod\u001b[0m\u001b[1;33m=\u001b[0m\u001b[1;34m'complete'\u001b[0m\u001b[1;33m)\u001b[0m\u001b[1;33m\u001b[0m\u001b[1;33m\u001b[0m\u001b[0m\n\u001b[0;32m      3\u001b[0m \u001b[0mindex_dtw\u001b[0m \u001b[1;33m=\u001b[0m \u001b[0mspc\u001b[0m\u001b[1;33m.\u001b[0m\u001b[0mfcluster\u001b[0m\u001b[1;33m(\u001b[0m\u001b[0mdtw_linkage\u001b[0m\u001b[1;33m,\u001b[0m \u001b[1;36m0.03\u001b[0m \u001b[1;33m*\u001b[0m \u001b[0mdtw_distance\u001b[0m\u001b[1;33m.\u001b[0m\u001b[0mmax\u001b[0m\u001b[1;33m(\u001b[0m\u001b[1;33m)\u001b[0m\u001b[1;33m,\u001b[0m \u001b[1;34m'distance'\u001b[0m\u001b[1;33m)\u001b[0m\u001b[1;33m\u001b[0m\u001b[1;33m\u001b[0m\u001b[0m\n\u001b[0;32m      4\u001b[0m \u001b[1;33m\u001b[0m\u001b[0m\n\u001b[0;32m      5\u001b[0m \u001b[0mDendrogram\u001b[0m\u001b[1;33m(\u001b[0m\u001b[0mdtw_linkage\u001b[0m\u001b[1;33m,\u001b[0m \u001b[0mindex_dtw\u001b[0m\u001b[1;33m)\u001b[0m\u001b[1;33m\u001b[0m\u001b[1;33m\u001b[0m\u001b[0m\n",
      "\u001b[1;31mNameError\u001b[0m: name 'DTW_data_distance_matrix' is not defined"
     ]
    }
   ],
   "source": [
    "dtw_distance = spc.distance.pdist(DTW_data_distance_matrix)\n",
    "dtw_linkage = spc.linkage(dtw_distance, method='complete')\n",
    "index_dtw = spc.fcluster(dtw_linkage, 0.03 * dtw_distance.max(), 'distance')\n",
    "\n",
    "Dendrogram(dtw_linkage, index_dtw)"
   ]
  },
  {
   "cell_type": "markdown",
   "metadata": {
    "id": "_eeiyk7BxeBR"
   },
   "source": [
    "## Conclusion for Hierarchical Clustering\n",
    "From the result of the H-clustering using correlation matrix and H-clustering using Dynamic Time Warping distance matrix, it can be seen that the clustering results are quite close. For example, the cluster 2 of the H-clustering and the cluster 1 of the H-clustering with DTW includes meters 222 & 8467, as well as both of the cluster 4 of the H-clustering and H-clustering with DTW includes meters 3036, 8244 and 9600.\n",
    "\n",
    "Hence, H-clustering using Dynamic Time Warping(DTW) is better because the DTW algorithm takes into account of the dissimilarity between the gas consumption data of each household. However, the time complexity of H-clustering is O(𝑁^2 m x n) whereby m and n are the number of elements in the row and column respectively, this implies that the code would take a long time to load."
   ]
  },
  {
   "cell_type": "markdown",
   "metadata": {
    "id": "yMPrSfqFxeBR"
   },
   "source": [
    "# 3. K-Means Clustering"
   ]
  },
  {
   "cell_type": "markdown",
   "metadata": {
    "id": "6rxBZb8FxeBR"
   },
   "source": [
    "K-Means clustering attempts to partition into k clusters in which each observation belongs to the cluster with the nearest mean. K-means work on minimising the within-cluster variances (squared Euclidean Distance), but not the regular Euclidean distance.\n",
    "\n",
    "In this section, we attempt to find the within cluster variances (WCSS) using the Elbow Method, we then identify the best ‘k’ for the number of clusters. We then classify the household IDs accordingly in their respective clusters.  "
   ]
  },
  {
   "cell_type": "code",
   "execution_count": 20,
   "metadata": {
    "id": "SB_AOtgAxeBR"
   },
   "outputs": [],
   "source": [
    "# Importing Libraries for Q3 \n",
    "from sklearn.cluster import KMeans\n",
    "import numpy\n",
    "import matplotlib.pyplot as plt"
   ]
  },
  {
   "cell_type": "code",
   "execution_count": 21,
   "metadata": {
    "id": "cCTV9HfuxeBT"
   },
   "outputs": [],
   "source": [
    "no_malfunction.groupby('dataid')\n",
    "\n",
    "k_data = no_malfunction.iloc[:,[1,2]].values"
   ]
  },
  {
   "cell_type": "code",
   "execution_count": 22,
   "metadata": {
    "id": "RusrgtNixeBU",
    "outputId": "f9d0b67d-4696-48d1-ae31-ec4008313451"
   },
   "outputs": [
    {
     "data": {
      "image/png": "[encoded data removed]",
      "text/plain": [
       "<Figure size 432x288 with 1 Axes>"
      ]
     },
     "metadata": {
      "needs_background": "light"
     },
     "output_type": "display_data"
    }
   ],
   "source": [
    "wcss = [] \n",
    "for i in range (1,11):\n",
    "    kmeans = KMeans(n_clusters = i, init = 'k-means++', random_state = 42)\n",
    "    kmeans.fit(k_data)\n",
    "    wcss.append(kmeans.inertia_)\n",
    "    \n",
    "plt.plot(range(1, 11), wcss)\n",
    "plt.title('The Elbow Method')\n",
    "plt.xlabel('Number of clusters')\n",
    "plt.ylabel('WCSS')\n",
    "plt.show()"
   ]
  },
  {
   "cell_type": "markdown",
   "metadata": {
    "id": "FfmJ5nvgxeBY"
   },
   "source": [
    "### Analyse of K-Means: Elbow Method \n",
    "From the graph, we are able to tell that the cluster is best-formed when there are 6 clusters as the Within-Cluster-Sum-of-Squares (WCSS) is significantly reduced.\n",
    "\n",
    "As such, we can split the data into 6 clusters. \n",
    "\n",
    "If we were to split the data into more clusters, the WCSS will drop as the distance between the clusters are maximised. "
   ]
  },
  {
   "cell_type": "code",
   "execution_count": 23,
   "metadata": {
    "id": "EnsffcbtxeBY",
    "outputId": "2c2f7ca5-9588-4462-df1e-e0303e6a754a"
   },
   "outputs": [
    {
     "data": {
      "text/plain": [
       "'\\n# The following uses TimeSeries KMeans instead of SciKit Learn KMeans \\nkmeans = TimeSeriesKMeans(n_clusters= 6, metric=\"euclidean\", max_iter=5, random_state=0)\\ny_kmeans = kmeans.fit_predict(k_data)\\n'"
      ]
     },
     "execution_count": 23,
     "metadata": {},
     "output_type": "execute_result"
    }
   ],
   "source": [
    "# The following uses SciKit Learn KMeans instead of TimeSeries KMeans \n",
    "\n",
    "kmeans = KMeans(n_clusters = 6, init = 'k-means++', random_state = 42)\n",
    "y_kmeans = kmeans.fit_predict(k_data)\n",
    "'''\n",
    "# The following uses TimeSeries KMeans instead of SciKit Learn KMeans \n",
    "kmeans = TimeSeriesKMeans(n_clusters= 6, metric=\"euclidean\", max_iter=5, random_state=0)\n",
    "y_kmeans = kmeans.fit_predict(k_data)\n",
    "'''"
   ]
  },
  {
   "cell_type": "code",
   "execution_count": 24,
   "metadata": {
    "id": "hG02izmdxeBa",
    "outputId": "09fa2354-ab6f-456c-fafd-d9dac399a8ff"
   },
   "outputs": [
    {
     "data": {
      "image/png": "[encoded data removed]",
      "text/plain": [
       "<Figure size 432x288 with 1 Axes>"
      ]
     },
     "metadata": {
      "needs_background": "light"
     },
     "output_type": "display_data"
    }
   ],
   "source": [
    "sns.set_palette(sns.color_palette(\"hls\", 7))\n",
    "\n",
    "plt.scatter(k_data[y_kmeans == 0, 0], k_data[y_kmeans == 0, 1], label = 'Cluster 1')\n",
    "plt.scatter(k_data[y_kmeans == 1, 0], k_data[y_kmeans == 1, 1], label = 'Cluster 2')\n",
    "plt.scatter(k_data[y_kmeans == 2, 0], k_data[y_kmeans == 2, 1], label = 'Cluster 3')\n",
    "plt.scatter(k_data[y_kmeans == 3, 0], k_data[y_kmeans == 3, 1], label = 'Cluster 4')\n",
    "plt.scatter(k_data[y_kmeans == 4, 0], k_data[y_kmeans == 4, 1], label = 'Cluster 5')\n",
    "plt.scatter(k_data[y_kmeans == 5, 0], k_data[y_kmeans == 5, 1], label = 'Cluster 6')\n",
    "\n",
    "plt.scatter(kmeans.cluster_centers_[:,0], kmeans.cluster_centers_[:,1], s = 80, label = 'Centroids')\n",
    "\n",
    "plt.title('Clusters of Meters using K-Means')\n",
    "plt.xlabel('Meter ID')\n",
    "plt.ylabel('Gas Consumption')\n",
    "plt.legend()\n",
    "plt.show()"
   ]
  },
  {
   "cell_type": "code",
   "execution_count": 25,
   "metadata": {
    "id": "7QGsY56FxeBc",
    "outputId": "58f19dfd-bc27-411c-b0d6-1670f7dfeb50"
   },
   "outputs": [
    {
     "name": "stdout",
     "output_type": "stream",
     "text": [
      "There are a total of 6 clusters formed. \n",
      "\n",
      "Cluster 0 contains the following houses: [1507, 6863, 3310, 252, 1790]\n",
      "\n",
      "Cluster 1 contains the following houses: [3635, 1714, 6412, 7429, 5275, 4296, 8829, 3039, 9295, 3577, 4767, 5785, 7739, 114, 1791, 9729, 1283, 1792, 2638, 2461, 744, 1800, 2980, 2094, 3849, 2129, 2575, 3778, 2378, 6830, 9766, 6578, 6505, 5395, 44, 2945, 2818, 8386, 5658, 9278, 1801, 3036, 9600, 9631, 871, 5131]\n",
      "\n",
      "Cluster 2 contains the following houses: [222, 5814]\n",
      "\n",
      "Cluster 3 contains the following houses: [6910, 4352, 1589, 7287, 9121, 4732, 5439, 9474, 2018, 8155, 5636, 7682, 3723, 661, 1042, 4373, 7900, 3527, 4356, 2965, 8086, 1415, 2233, 2470, 8703, 7965, 2129, 8967, 1103, 3577, 2638, 1283, 4296, 8386, 2378, 5785, 2094, 2818, 9295, 9766, 5275, 44, 8829]\n",
      "\n",
      "Cluster 4 contains the following houses: [739, 9849, 5131, 871, 1086, 9631, 4447, 2034, 370, 35, 8467, 9278, 9956, 1801, 3893, 77, 1619, 4421, 8084, 4228, 8059, 5317, 8244, 1403, 6673]\n",
      "\n",
      "Cluster 5 contains the following houses: [252, 7741, 7919, 7674, 1697, 3367, 5972, 7460, 9052, 4029, 187, 5484, 2072, 1790, 5892, 4193, 7016, 3918, 8155, 3723, 4373, 3527, 8086, 7682]\n",
      "\n",
      "There are 28 houses classified in 2 or more clusters. \n",
      "\n",
      "These houses with 2 or more clusters are: [2129, 3577, 2638, 1283, 4296, 8386, 2378, 5785, 2094, 2818, 9295, 9766, 5275, 44, 8829, 5131, 871, 9631, 9278, 1801, 252, 1790, 8155, 3723, 4373, 3527, 8086, 7682]. \n",
      "\n"
     ]
    }
   ],
   "source": [
    "house_cluster = {} \n",
    "check_list = []\n",
    "repeated = []\n",
    "\n",
    "for cluster in range (6):\n",
    "    listed = []\n",
    "    for dataid in (k_data[y_kmeans==cluster,0]):\n",
    "        if (house_cluster.get(str(dataid)) == None):\n",
    "            house_cluster.setdefault(cluster, [])\n",
    "\n",
    "            if dataid not in listed:\n",
    "                listed.append(dataid)\n",
    "                if (any(dataid in z for z in check_list)):\n",
    "                    repeated.append(dataid)              \n",
    "        else:\n",
    "            continue\n",
    "    house_cluster[cluster] = (listed)\n",
    "    check_list.append(listed)\n",
    "\n",
    "\n",
    "print(f\"There are a total of {len(house_cluster)} clusters formed. \\n\")\n",
    "for key in house_cluster:\n",
    "    print(f\"Cluster {key} contains the following houses: {(house_cluster[key])}\\n\")\n",
    "print(f\"There are {len(repeated)} houses classified in 2 or more clusters. \\n\")\n",
    "print(f\"These houses with 2 or more clusters are: {repeated}. \\n\")\n",
    "    "
   ]
  },
  {
   "cell_type": "markdown",
   "metadata": {
    "id": "4kr1ATNVxeBe"
   },
   "source": [
    "## Conclusion of using K-Means Clustering \n",
    "The distance measuring used in standard clustering algorithms such as Euclidean distance is not appropriate to be used with time series. A better approach will be to replace the default distance measure with Dynamic Time Warping. \n",
    "\n",
    "In this case where Euclidean Distance is used, the time dimensions of the data will be ignored, as such we are unable to apply Dynamic Time Warping with K-Means Clustering. \n",
    "\n",
    "As the data varies with time, we have identified K-Means Clustering as a bad method to classify the households. In addition, using K-Means Clustering causes the some households to be classified in more than one cluster. \n",
    "\n",
    "The key difference of Hierarchical Clustering when comparing with K-Means Clustering is that it does not require to pre-specify the number of clusters to be generated. Additionally, one of the main advantages of Hierarchical Clustering is having the dendrogram which is a very intuitive tree-based representation of the observations. Furthermore, when the Hierarchical Clustering is being paired with Dynamic Time Warping, the clustering results becomes more reliable as Dynamic Time Warping is able to capture the dissimilarity between the gas consumption data. However, the limitation to our solution is the time complexity."
   ]
  },
  {
   "cell_type": "markdown",
   "metadata": {
    "id": "QmTvjYhcxeBe"
   },
   "source": [
    "# 4. Long Short-Term Memory (LSTM) for forecasting"
   ]
  },
  {
   "cell_type": "markdown",
   "metadata": {
    "id": "aLGt9yrQxeBe"
   },
   "source": [
    "Since the dataset provided is time-series data, such that the data points are indexed in time order, we decided to use a class of neural networks known as the Recurrent Neural Network (RNN) to forecast the future time-series data. Like Feedforward and Convolutional Neural Networks (CNNs), RNN utilises training data to learn. However, the main difference between RNN and the other neural networks is the “memory” element of it. RNN can remember the information from prior inputs and use them to influence the current input and the output. Although traditional deep neural networks assume that input and output are independent of one another, the output obtained from using RNN is dependent on the prior elements within the sequence. In the case of analysing our gas consumption dataset, this can be beneficial since we are then able to better predict the consumption of a particular household or group of households (with similar gas consumption rate) accurately. This allows gas companies to strategize their corresponding market strategies, business decisions, and operation cost more effectively. \n",
    "\n",
    "Despite RNN being a great prediction model, it has a downside of  “short-term memory”. For instance, if a sequence is long enough, the networks will have a hard time carrying information from earlier time steps to later ones, which will lead to missing important information from the beginning to a time when this information is required. This will result in a less accurate prediction. Since the gas consumption dataset has a broad time difference, this suggests that the sequence of  RNN is long, and implementing RNN alone would risk having a less precise prediction. \n",
    "\n",
    "The above explanation brings us to the reason for choosing a special kind of RNN known as the Long Short-Term Memory Networks (LSTM), which can learn long-term dependencies. In simpler terms,  LSTM can remember information from a long time ago and use it to influence the current result or output, thereby resulting in higher accuracy. The main working principles of LSTM are its cell states and gates. The cell state is essentially the “memory” of the network such that it can carry pertinent information throughout the processing sequence. Therefore, data from earlier time steps can also reach the later ones, reducing the effects of short-term memory. As the cell state carries on its journey down the processing lane, information can be added or removed via the gates, depending if they might be of help in giving the final predicted result. The gates will learn what information is relevant to keep or discard during the training phase. "
   ]
  },
  {
   "cell_type": "code",
   "execution_count": 26,
   "metadata": {
    "id": "TlneiSnNxeBf"
   },
   "outputs": [],
   "source": [
    "from keras.models import Sequential\n",
    "from keras.layers import Dense\n",
    "from keras.layers import LSTM\n",
    "import math\n",
    "from pandas import Series \n",
    "import seaborn as sns\n",
    "sns.set()\n",
    "sns.set_palette(sns.color_palette(\"hls\", 4))\n",
    "import collections\n",
    "from datetime import datetime\n",
    "import dateutil\n",
    "import scipy\n",
    "import tensorflow as tf"
   ]
  },
  {
   "cell_type": "code",
   "execution_count": 27,
   "metadata": {
    "id": "1r0myzY1xeBg"
   },
   "outputs": [],
   "source": [
    "# Defining useful functions\n",
    "\n",
    "scaler = MinMaxScaler(feature_range = (False, True))\n",
    "\n",
    "# Normalize the dataset\n",
    "def get_normalized_dataset(meter_value):\n",
    "    dataset = ((hourly_data_df[meter_value].values).astype(\"float32\")).reshape(-1, 1)\n",
    "    dataset = scaler.fit_transform(dataset)\n",
    "    return dataset\n",
    "\n",
    "# Applying scaler inverse function\n",
    "def scaler_transform(data_type):\n",
    "    return scaler.inverse_transform(data_type)\n",
    "\n",
    "# For reshaping purposes \n",
    "def get_shape(data_type, value):\n",
    "    return data_type.shape[value]\n",
    "\n",
    "# Split data into train and test sets\n",
    "def split_data(dataset):\n",
    "    length_of_training = int(len(dataset) * 0.8)\n",
    "    length_of_dataset = len(dataset)\n",
    "    train_data, test_data = dataset[:length_of_training][:], dataset[length_of_training:length_of_dataset][:]\n",
    "    splited_data = train_data, test_data\n",
    "    return splited_data\n",
    "\n",
    "# Convert an array of values into a dataset matrix\n",
    "def prep_lstm_data(dataset):\n",
    "    x, y = [], []\n",
    "    length_of_dataset = len(dataset)\n",
    "    relevant_dataset = dataset[:length_of_dataset-2]\n",
    "    for i, j in enumerate(relevant_dataset):\n",
    "        a = dataset[i:i+1, 0]\n",
    "        x.append(a)\n",
    "        y.append(dataset[i+1, 0])\n",
    "    return np.array(x), np.array(y)\n",
    "\n",
    "# Plotting the LSTM graph\n",
    "def plot_LSTM(meter_value, train_pred_y, test_pred_y, train_data, test_data):\n",
    "    plt.subplots(figsize=(28,7))\n",
    "    plt.scatter(train_date, scaler_transform(train_data))\n",
    "    plt.scatter(test_date, scaler_transform(test_data))\n",
    "    plt.scatter(train_date[:-2], train_pred_y)\n",
    "    plt.scatter(test_date[:-2], test_pred_y)\n",
    "    \n",
    "    plt.xticks(fontsize=25)\n",
    "    plt.xlabel('Time', fontsize=25)\n",
    "    plt.ylabel('Amount of gas consumed', fontsize=25)\n",
    "    plt.title(f'Meter {meter_value} Cumulative gas consumption vs Time with LSTM', fontsize=25)\n",
    "    plt.legend(['Train data', 'Test data', 'Best fit line train', \"Best fit line test\",'Prediction'], fontsize=25)\n",
    "    plt.show()\n",
    "\n",
    "\n"
   ]
  },
  {
   "cell_type": "markdown",
   "metadata": {
    "id": "e8emm3QpxeBh"
   },
   "source": [
    "### Visualising Meter 35 SVR best actual vs fit line and forcasting and using LSTM"
   ]
  },
  {
   "cell_type": "code",
   "execution_count": 28,
   "metadata": {
    "id": "XXsVUwHaxeBh",
    "outputId": "a645f1cd-18ec-48b8-e4f7-311521d6deb0"
   },
   "outputs": [
    {
     "name": "stdout",
     "output_type": "stream",
     "text": [
      "Epoch 1/50\n",
      "703/703 - 1s - loss: 0.0273\n",
      "Epoch 2/50\n",
      "703/703 - 1s - loss: 1.2685e-04\n",
      "Epoch 3/50\n",
      "703/703 - 1s - loss: 8.0986e-05\n",
      "Epoch 4/50\n",
      "703/703 - 1s - loss: 5.3445e-05\n",
      "Epoch 5/50\n",
      "703/703 - 1s - loss: 2.8485e-05\n",
      "Epoch 6/50\n",
      "703/703 - 1s - loss: 1.1491e-05\n",
      "Epoch 7/50\n",
      "703/703 - 1s - loss: 4.3390e-06\n",
      "Epoch 8/50\n",
      "703/703 - 1s - loss: 2.8546e-06\n",
      "Epoch 9/50\n",
      "703/703 - 1s - loss: 2.6280e-06\n",
      "Epoch 10/50\n",
      "703/703 - 1s - loss: 2.7783e-06\n",
      "Epoch 11/50\n",
      "703/703 - 1s - loss: 2.9590e-06\n",
      "Epoch 12/50\n",
      "703/703 - 1s - loss: 2.7220e-06\n",
      "Epoch 13/50\n",
      "703/703 - 1s - loss: 3.3970e-06\n",
      "Epoch 14/50\n",
      "703/703 - 1s - loss: 3.1177e-06\n",
      "Epoch 15/50\n",
      "703/703 - 1s - loss: 3.2784e-06\n",
      "Epoch 16/50\n",
      "703/703 - 1s - loss: 3.0369e-06\n",
      "Epoch 17/50\n",
      "703/703 - 1s - loss: 2.6854e-06\n",
      "Epoch 18/50\n",
      "703/703 - 1s - loss: 2.6095e-06\n",
      "Epoch 19/50\n",
      "703/703 - 1s - loss: 2.5252e-06\n",
      "Epoch 20/50\n",
      "703/703 - 1s - loss: 2.4381e-06\n",
      "Epoch 21/50\n",
      "703/703 - 1s - loss: 2.7202e-06\n",
      "Epoch 22/50\n",
      "703/703 - 1s - loss: 2.4217e-06\n",
      "Epoch 23/50\n",
      "703/703 - 1s - loss: 2.2325e-06\n",
      "Epoch 24/50\n",
      "703/703 - 1s - loss: 2.2924e-06\n",
      "Epoch 25/50\n",
      "703/703 - 1s - loss: 2.2277e-06\n",
      "Epoch 26/50\n",
      "703/703 - 1s - loss: 2.0275e-06\n",
      "Epoch 27/50\n",
      "703/703 - 1s - loss: 1.7405e-06\n",
      "Epoch 28/50\n",
      "703/703 - 1s - loss: 1.8642e-06\n",
      "Epoch 29/50\n",
      "703/703 - 1s - loss: 1.6106e-06\n",
      "Epoch 30/50\n",
      "703/703 - 1s - loss: 1.7074e-06\n",
      "Epoch 31/50\n",
      "703/703 - 1s - loss: 1.7192e-06\n",
      "Epoch 32/50\n",
      "703/703 - 1s - loss: 1.6437e-06\n",
      "Epoch 33/50\n",
      "703/703 - 1s - loss: 1.4874e-06\n",
      "Epoch 34/50\n",
      "703/703 - 1s - loss: 1.3320e-06\n",
      "Epoch 35/50\n",
      "703/703 - 1s - loss: 1.3981e-06\n",
      "Epoch 36/50\n",
      "703/703 - 1s - loss: 1.1498e-06\n",
      "Epoch 37/50\n",
      "703/703 - 1s - loss: 1.2178e-06\n",
      "Epoch 38/50\n",
      "703/703 - 1s - loss: 1.0918e-06\n",
      "Epoch 39/50\n",
      "703/703 - 1s - loss: 1.0179e-06\n",
      "Epoch 40/50\n",
      "703/703 - 1s - loss: 1.1321e-06\n",
      "Epoch 41/50\n",
      "703/703 - 1s - loss: 9.6167e-07\n",
      "Epoch 42/50\n",
      "703/703 - 1s - loss: 9.2806e-07\n",
      "Epoch 43/50\n",
      "703/703 - 1s - loss: 1.0182e-06\n",
      "Epoch 44/50\n",
      "703/703 - 1s - loss: 6.1663e-07\n",
      "Epoch 45/50\n",
      "703/703 - 1s - loss: 8.0707e-07\n",
      "Epoch 46/50\n",
      "703/703 - 1s - loss: 6.3787e-07\n",
      "Epoch 47/50\n",
      "703/703 - 1s - loss: 7.3900e-07\n",
      "Epoch 48/50\n",
      "703/703 - 1s - loss: 6.5175e-07\n",
      "Epoch 49/50\n",
      "703/703 - 1s - loss: 5.9028e-07\n",
      "Epoch 50/50\n",
      "703/703 - 1s - loss: 5.6676e-07\n",
      "Training mean squared error: 142.52\n",
      "Test mean squared error: 995.76\n"
     ]
    }
   ],
   "source": [
    "# Get readings \n",
    "\n",
    "meter_reading = 35\n",
    "\n",
    "dataset = get_normalized_dataset(meter_reading)\n",
    "splited_data = split_data(dataset)\n",
    "train_data, test_data = splited_data\n",
    "\n",
    "# Modelling\n",
    "\n",
    "test_x, test_y = prep_lstm_data(test_data)\n",
    "train_x, train_y = prep_lstm_data(train_data)\n",
    "\n",
    "train_x = np.reshape(train_x, (get_shape(train_x, 0), 1, get_shape(train_x, 1)))\n",
    "test_x = np.reshape(test_x, (get_shape(test_x, 0), 1, get_shape(test_x, 1)))\n",
    "\n",
    "model = Sequential()\n",
    "model.add(LSTM(10, input_shape=(1, 1)))\n",
    "model.add(Dense(1))\n",
    "model.compile(loss='mean_squared_error', optimizer='adam')\n",
    "model.fit(train_x, train_y, epochs=50, batch_size=5, verbose=2)\n",
    "\n",
    "train_pred_y, train_y = scaler_transform(model.predict(train_x)), scaler_transform([train_y])\n",
    "test_pred_y, test_y  = scaler_transform(model.predict(test_x)), scaler_transform([test_y])\n",
    "\n",
    "a, b = train_pred_y, test_pred_y\n",
    "\n",
    "# Mean Squared Error\n",
    "print('Training mean squared error: %.2f' % (mean_squared_error(train_y[0], train_pred_y[:,0])))\n",
    "print('Test mean squared error: %.2f' % (mean_squared_error(test_y[0], test_pred_y[:,0])))"
   ]
  },
  {
   "cell_type": "code",
   "execution_count": 29,
   "metadata": {
    "id": "aIlbmA6UxeBk",
    "outputId": "3bc11965-5fe4-48b1-b68d-1911b97ca8bc"
   },
   "outputs": [
    {
     "ename": "NameError",
     "evalue": "name 'train_date' is not defined",
     "output_type": "error",
     "traceback": [
      "\u001b[1;31m---------------------------------------------------------------------------\u001b[0m",
      "\u001b[1;31mNameError\u001b[0m                                 Traceback (most recent call last)",
      "\u001b[1;32m<ipython-input-29-825571787644>\u001b[0m in \u001b[0;36m<module>\u001b[1;34m\u001b[0m\n\u001b[0;32m      1\u001b[0m \u001b[1;31m# Get LSTM plot\u001b[0m\u001b[1;33m\u001b[0m\u001b[1;33m\u001b[0m\u001b[1;33m\u001b[0m\u001b[0m\n\u001b[1;32m----> 2\u001b[1;33m \u001b[0mplot_LSTM\u001b[0m\u001b[1;33m(\u001b[0m\u001b[1;36m35\u001b[0m\u001b[1;33m,\u001b[0m \u001b[0ma\u001b[0m\u001b[1;33m,\u001b[0m \u001b[0mb\u001b[0m\u001b[1;33m,\u001b[0m \u001b[0mtrain_data\u001b[0m\u001b[1;33m,\u001b[0m \u001b[0mtest_data\u001b[0m\u001b[1;33m)\u001b[0m\u001b[1;33m\u001b[0m\u001b[1;33m\u001b[0m\u001b[0m\n\u001b[0m",
      "\u001b[1;32m<ipython-input-27-2f3aa6b08b4a>\u001b[0m in \u001b[0;36mplot_LSTM\u001b[1;34m(meter_value, train_pred_y, test_pred_y, train_data, test_data)\u001b[0m\n\u001b[0;32m     39\u001b[0m \u001b[1;32mdef\u001b[0m \u001b[0mplot_LSTM\u001b[0m\u001b[1;33m(\u001b[0m\u001b[0mmeter_value\u001b[0m\u001b[1;33m,\u001b[0m \u001b[0mtrain_pred_y\u001b[0m\u001b[1;33m,\u001b[0m \u001b[0mtest_pred_y\u001b[0m\u001b[1;33m,\u001b[0m \u001b[0mtrain_data\u001b[0m\u001b[1;33m,\u001b[0m \u001b[0mtest_data\u001b[0m\u001b[1;33m)\u001b[0m\u001b[1;33m:\u001b[0m\u001b[1;33m\u001b[0m\u001b[1;33m\u001b[0m\u001b[0m\n\u001b[0;32m     40\u001b[0m     \u001b[0mplt\u001b[0m\u001b[1;33m.\u001b[0m\u001b[0msubplots\u001b[0m\u001b[1;33m(\u001b[0m\u001b[0mfigsize\u001b[0m\u001b[1;33m=\u001b[0m\u001b[1;33m(\u001b[0m\u001b[1;36m28\u001b[0m\u001b[1;33m,\u001b[0m\u001b[1;36m7\u001b[0m\u001b[1;33m)\u001b[0m\u001b[1;33m)\u001b[0m\u001b[1;33m\u001b[0m\u001b[1;33m\u001b[0m\u001b[0m\n\u001b[1;32m---> 41\u001b[1;33m     \u001b[0mplt\u001b[0m\u001b[1;33m.\u001b[0m\u001b[0mscatter\u001b[0m\u001b[1;33m(\u001b[0m\u001b[0mtrain_date\u001b[0m\u001b[1;33m,\u001b[0m \u001b[0mscaler_transform\u001b[0m\u001b[1;33m(\u001b[0m\u001b[0mtrain_data\u001b[0m\u001b[1;33m)\u001b[0m\u001b[1;33m)\u001b[0m\u001b[1;33m\u001b[0m\u001b[1;33m\u001b[0m\u001b[0m\n\u001b[0m\u001b[0;32m     42\u001b[0m     \u001b[0mplt\u001b[0m\u001b[1;33m.\u001b[0m\u001b[0mscatter\u001b[0m\u001b[1;33m(\u001b[0m\u001b[0mtest_date\u001b[0m\u001b[1;33m,\u001b[0m \u001b[0mscaler_transform\u001b[0m\u001b[1;33m(\u001b[0m\u001b[0mtest_data\u001b[0m\u001b[1;33m)\u001b[0m\u001b[1;33m)\u001b[0m\u001b[1;33m\u001b[0m\u001b[1;33m\u001b[0m\u001b[0m\n\u001b[0;32m     43\u001b[0m     \u001b[0mplt\u001b[0m\u001b[1;33m.\u001b[0m\u001b[0mscatter\u001b[0m\u001b[1;33m(\u001b[0m\u001b[0mtrain_date\u001b[0m\u001b[1;33m[\u001b[0m\u001b[1;33m:\u001b[0m\u001b[1;33m-\u001b[0m\u001b[1;36m2\u001b[0m\u001b[1;33m]\u001b[0m\u001b[1;33m,\u001b[0m \u001b[0mtrain_pred_y\u001b[0m\u001b[1;33m)\u001b[0m\u001b[1;33m\u001b[0m\u001b[1;33m\u001b[0m\u001b[0m\n",
      "\u001b[1;31mNameError\u001b[0m: name 'train_date' is not defined"
     ]
    },
    {
     "data": {
      "image/png": "[encoded data removed]",
      "text/plain": [
       "<Figure size 2016x504 with 1 Axes>"
      ]
     },
     "metadata": {},
     "output_type": "display_data"
    }
   ],
   "source": [
    "# Get LSTM plot\n",
    "plot_LSTM(35, a, b, train_data, test_data)"
   ]
  },
  {
   "cell_type": "markdown",
   "metadata": {
    "id": "oOZKnqQExeBm"
   },
   "source": [
    "### Visualising Meter 77 SVR best actual vs fit line and forcasting and using LSTM\n"
   ]
  },
  {
   "cell_type": "code",
   "execution_count": null,
   "metadata": {
    "id": "U-w-ssJoxeBm",
    "outputId": "6cad32c2-52f9-4edf-f005-09c061944ec1"
   },
   "outputs": [
    {
     "name": "stdout",
     "output_type": "stream",
     "text": [
      "Epoch 1/50\n",
      "703/703 - 1s - loss: 0.0331\n",
      "Epoch 2/50\n",
      "703/703 - 1s - loss: 4.1547e-04\n",
      "Epoch 3/50\n",
      "703/703 - 1s - loss: 6.0048e-05\n",
      "Epoch 4/50\n",
      "703/703 - 1s - loss: 4.5559e-05\n",
      "Epoch 5/50\n",
      "703/703 - 1s - loss: 3.0491e-05\n",
      "Epoch 6/50\n",
      "703/703 - 1s - loss: 1.7198e-05\n",
      "Epoch 7/50\n",
      "703/703 - 1s - loss: 8.4464e-06\n",
      "Epoch 8/50\n",
      "703/703 - 1s - loss: 4.3975e-06\n",
      "Epoch 9/50\n",
      "703/703 - 1s - loss: 3.3332e-06\n",
      "Epoch 10/50\n",
      "703/703 - 2s - loss: 3.2824e-06\n",
      "Epoch 11/50\n",
      "703/703 - 2s - loss: 3.4259e-06\n",
      "Epoch 12/50\n",
      "703/703 - 2s - loss: 3.7187e-06\n",
      "Epoch 13/50\n",
      "703/703 - 2s - loss: 3.5377e-06\n",
      "Epoch 14/50\n",
      "703/703 - 2s - loss: 3.4809e-06\n",
      "Epoch 15/50\n",
      "703/703 - 1s - loss: 3.7915e-06\n",
      "Epoch 16/50\n",
      "703/703 - 1s - loss: 3.3883e-06\n",
      "Epoch 17/50\n",
      "703/703 - 1s - loss: 3.8498e-06\n",
      "Epoch 18/50\n",
      "703/703 - 2s - loss: 2.9725e-06\n",
      "Epoch 19/50\n",
      "703/703 - 1s - loss: 3.2636e-06\n",
      "Epoch 20/50\n",
      "703/703 - 1s - loss: 3.1647e-06\n",
      "Epoch 21/50\n",
      "703/703 - 1s - loss: 2.9905e-06\n",
      "Epoch 22/50\n",
      "703/703 - 1s - loss: 3.1182e-06\n",
      "Epoch 23/50\n",
      "703/703 - 2s - loss: 2.7869e-06\n",
      "Epoch 24/50\n",
      "703/703 - 1s - loss: 3.2178e-06\n",
      "Epoch 25/50\n",
      "703/703 - 2s - loss: 2.4780e-06\n",
      "Epoch 26/50\n",
      "703/703 - 1s - loss: 2.6588e-06\n",
      "Epoch 27/50\n",
      "703/703 - 1s - loss: 2.4219e-06\n",
      "Epoch 28/50\n",
      "703/703 - 1s - loss: 2.6447e-06\n",
      "Epoch 29/50\n",
      "703/703 - 1s - loss: 2.3290e-06\n",
      "Epoch 30/50\n",
      "703/703 - 1s - loss: 2.2517e-06\n",
      "Epoch 31/50\n",
      "703/703 - 1s - loss: 2.6404e-06\n",
      "Epoch 32/50\n",
      "703/703 - 1s - loss: 2.2955e-06\n",
      "Epoch 33/50\n",
      "703/703 - 1s - loss: 1.8874e-06\n",
      "Epoch 34/50\n",
      "703/703 - 1s - loss: 1.9895e-06\n",
      "Epoch 35/50\n",
      "703/703 - 2s - loss: 1.5558e-06\n",
      "Epoch 36/50\n",
      "703/703 - 2s - loss: 1.7214e-06\n",
      "Epoch 37/50\n",
      "703/703 - 1s - loss: 1.3415e-06\n",
      "Epoch 38/50\n",
      "703/703 - 1s - loss: 1.3621e-06\n",
      "Epoch 39/50\n",
      "703/703 - 2s - loss: 8.9967e-07\n",
      "Epoch 40/50\n",
      "703/703 - 2s - loss: 7.8947e-07\n",
      "Epoch 41/50\n",
      "703/703 - 1s - loss: 5.9043e-07\n",
      "Epoch 42/50\n",
      "703/703 - 1s - loss: 4.3336e-07\n",
      "Epoch 43/50\n",
      "703/703 - 1s - loss: 3.7362e-07\n",
      "Epoch 44/50\n",
      "703/703 - 1s - loss: 3.6070e-07\n",
      "Epoch 45/50\n",
      "703/703 - 1s - loss: 4.2001e-07\n",
      "Epoch 46/50\n",
      "703/703 - 1s - loss: 4.7264e-07\n",
      "Epoch 47/50\n",
      "703/703 - 1s - loss: 3.7377e-07\n",
      "Epoch 48/50\n",
      "703/703 - 1s - loss: 4.3453e-07\n",
      "Epoch 49/50\n",
      "703/703 - 1s - loss: 4.3478e-07\n",
      "Epoch 50/50\n",
      "703/703 - 1s - loss: 3.9537e-07\n",
      "Training mean squared error: 5.50\n",
      "Test mean squared error: 176.53\n"
     ]
    }
   ],
   "source": [
    "# Get readings \n",
    "\n",
    "meter_reading = 77\n",
    "\n",
    "dataset = get_normalized_dataset(meter_reading)\n",
    "splited_data = split_data(dataset)\n",
    "train_data, test_data = splited_data\n",
    "\n",
    "# Modelling\n",
    "\n",
    "test_x, test_y = prep_lstm_data(test_data)\n",
    "train_x, train_y = prep_lstm_data(train_data)\n",
    "\n",
    "train_x = np.reshape(train_x, (get_shape(train_x, 0), 1, get_shape(train_x, 1)))\n",
    "test_x = np.reshape(test_x, (get_shape(test_x, 0), 1, get_shape(test_x, 1)))\n",
    "\n",
    "model = Sequential()\n",
    "model.add(LSTM(10, input_shape=(1, 1)))\n",
    "model.add(Dense(1))\n",
    "model.compile(loss='mean_squared_error', optimizer='adam')\n",
    "model.fit(train_x, train_y, epochs=50, batch_size=5, verbose=2)\n",
    "\n",
    "train_pred_y, train_y = scaler_transform(model.predict(train_x)), scaler_transform([train_y])\n",
    "test_pred_y, test_y  = scaler_transform(model.predict(test_x)), scaler_transform([test_y])\n",
    "\n",
    "a, b = train_pred_y, test_pred_y\n",
    "\n",
    "# Mean Squared Error\n",
    "print('Training mean squared error: %.2f' % (mean_squared_error(train_y[0], train_pred_y[:,0])))\n",
    "print('Test mean squared error: %.2f' % (mean_squared_error(test_y[0], test_pred_y[:,0])))"
   ]
  },
  {
   "cell_type": "code",
   "execution_count": null,
   "metadata": {
    "id": "d04fF7pNxeBo",
    "outputId": "9459bd91-817b-4c09-8902-3fd1b15fa090"
   },
   "outputs": [
    {
     "data": {
      "image/png": "[encoded data removed]",
      "text/plain": [
       "<Figure size 2016x504 with 1 Axes>"
      ]
     },
     "metadata": {
      "tags": []
     },
     "output_type": "display_data"
    }
   ],
   "source": [
    "# Get LSTM plot\n",
    "plot_LSTM(meter_reading, a, b, train_data, test_data)"
   ]
  },
  {
   "cell_type": "markdown",
   "metadata": {
    "id": "jVbf7luzxeBq"
   },
   "source": [
    "### Visualising Meter 9849 SVR best actual vs fit line and forcasting and using LSTM"
   ]
  },
  {
   "cell_type": "code",
   "execution_count": null,
   "metadata": {
    "id": "kWz4hB23xeBr",
    "outputId": "404d1993-4bcc-4eb1-8b78-6a89c2e943ab"
   },
   "outputs": [
    {
     "name": "stdout",
     "output_type": "stream",
     "text": [
      "Epoch 1/50\n",
      "703/703 - 1s - loss: 0.0255\n",
      "Epoch 2/50\n",
      "703/703 - 1s - loss: 1.0473e-04\n",
      "Epoch 3/50\n",
      "703/703 - 1s - loss: 2.4475e-05\n",
      "Epoch 4/50\n",
      "703/703 - 1s - loss: 1.7619e-05\n",
      "Epoch 5/50\n",
      "703/703 - 1s - loss: 1.1121e-05\n",
      "Epoch 6/50\n",
      "703/703 - 1s - loss: 6.1941e-06\n",
      "Epoch 7/50\n",
      "703/703 - 1s - loss: 3.4276e-06\n",
      "Epoch 8/50\n",
      "703/703 - 1s - loss: 2.6279e-06\n",
      "Epoch 9/50\n",
      "703/703 - 1s - loss: 2.5109e-06\n",
      "Epoch 10/50\n",
      "703/703 - 1s - loss: 2.6732e-06\n",
      "Epoch 11/50\n",
      "703/703 - 1s - loss: 2.6493e-06\n",
      "Epoch 12/50\n",
      "703/703 - 1s - loss: 2.9998e-06\n",
      "Epoch 13/50\n",
      "703/703 - 1s - loss: 3.0826e-06\n",
      "Epoch 14/50\n",
      "703/703 - 1s - loss: 2.9627e-06\n",
      "Epoch 15/50\n",
      "703/703 - 1s - loss: 3.1497e-06\n",
      "Epoch 16/50\n",
      "703/703 - 1s - loss: 2.9556e-06\n",
      "Epoch 17/50\n",
      "703/703 - 1s - loss: 2.7175e-06\n",
      "Epoch 18/50\n",
      "703/703 - 1s - loss: 2.7666e-06\n",
      "Epoch 19/50\n",
      "703/703 - 1s - loss: 2.7698e-06\n",
      "Epoch 20/50\n",
      "703/703 - 1s - loss: 3.0663e-06\n",
      "Epoch 21/50\n",
      "703/703 - 1s - loss: 2.6581e-06\n",
      "Epoch 22/50\n",
      "703/703 - 1s - loss: 2.5818e-06\n",
      "Epoch 23/50\n",
      "703/703 - 1s - loss: 2.6958e-06\n",
      "Epoch 24/50\n",
      "703/703 - 1s - loss: 2.6663e-06\n",
      "Epoch 25/50\n",
      "703/703 - 1s - loss: 2.7157e-06\n",
      "Epoch 26/50\n",
      "703/703 - 1s - loss: 2.6752e-06\n",
      "Epoch 27/50\n",
      "703/703 - 1s - loss: 2.6484e-06\n",
      "Epoch 28/50\n",
      "703/703 - 1s - loss: 2.5534e-06\n",
      "Epoch 29/50\n",
      "703/703 - 1s - loss: 2.4975e-06\n",
      "Epoch 30/50\n",
      "703/703 - 1s - loss: 2.4222e-06\n",
      "Epoch 31/50\n",
      "703/703 - 1s - loss: 2.3141e-06\n",
      "Epoch 32/50\n",
      "703/703 - 1s - loss: 2.5132e-06\n",
      "Epoch 33/50\n",
      "703/703 - 1s - loss: 2.2645e-06\n",
      "Epoch 34/50\n",
      "703/703 - 1s - loss: 2.4983e-06\n",
      "Epoch 35/50\n",
      "703/703 - 1s - loss: 2.3569e-06\n",
      "Epoch 36/50\n",
      "703/703 - 1s - loss: 2.4350e-06\n",
      "Epoch 37/50\n",
      "703/703 - 1s - loss: 2.1670e-06\n",
      "Epoch 38/50\n",
      "703/703 - 1s - loss: 2.3004e-06\n",
      "Epoch 39/50\n",
      "703/703 - 1s - loss: 2.1455e-06\n",
      "Epoch 40/50\n",
      "703/703 - 1s - loss: 2.0531e-06\n",
      "Epoch 41/50\n",
      "703/703 - 1s - loss: 2.2658e-06\n",
      "Epoch 42/50\n",
      "703/703 - 1s - loss: 2.0951e-06\n",
      "Epoch 43/50\n",
      "703/703 - 1s - loss: 2.1131e-06\n",
      "Epoch 44/50\n",
      "703/703 - 1s - loss: 2.1557e-06\n",
      "Epoch 45/50\n",
      "703/703 - 1s - loss: 2.0529e-06\n",
      "Epoch 46/50\n",
      "703/703 - 1s - loss: 2.0068e-06\n",
      "Epoch 47/50\n",
      "703/703 - 1s - loss: 2.2015e-06\n",
      "Epoch 48/50\n",
      "703/703 - 1s - loss: 2.0482e-06\n",
      "Epoch 49/50\n",
      "703/703 - 1s - loss: 1.9632e-06\n",
      "Epoch 50/50\n",
      "703/703 - 1s - loss: 1.8991e-06\n",
      "Training mean squared error: 37.12\n",
      "Test mean squared error: 1549.21\n"
     ]
    }
   ],
   "source": [
    "# Get readings \n",
    "\n",
    "meter_reading = 9849\n",
    "\n",
    "dataset = get_normalized_dataset(meter_reading)\n",
    "splited_data = split_data(dataset)\n",
    "train_data, test_data = splited_data\n",
    "\n",
    "# Modelling\n",
    "\n",
    "test_x, test_y = prep_lstm_data(test_data)\n",
    "train_x, train_y = prep_lstm_data(train_data)\n",
    "\n",
    "train_x = np.reshape(train_x, (get_shape(train_x, 0), 1, get_shape(train_x, 1)))\n",
    "test_x = np.reshape(test_x, (get_shape(test_x, 0), 1, get_shape(test_x, 1)))\n",
    "\n",
    "model = Sequential()\n",
    "model.add(LSTM(10, input_shape=(1, 1)))\n",
    "model.add(Dense(1))\n",
    "model.compile(loss='mean_squared_error', optimizer='adam')\n",
    "model.fit(train_x, train_y, epochs=50, batch_size=5, verbose=2)\n",
    "\n",
    "train_pred_y, train_y = scaler_transform(model.predict(train_x)), scaler_transform([train_y])\n",
    "test_pred_y, test_y  = scaler_transform(model.predict(test_x)), scaler_transform([test_y])\n",
    "\n",
    "a, b = train_pred_y, test_pred_y\n",
    "\n",
    "# Mean Squared Error\n",
    "print('Training mean squared error: %.2f' % (mean_squared_error(train_y[0], train_pred_y[:,0])))\n",
    "print('Test mean squared error: %.2f' % (mean_squared_error(test_y[0], test_pred_y[:,0])))"
   ]
  },
  {
   "cell_type": "code",
   "execution_count": null,
   "metadata": {
    "id": "alngI4VHxeBs",
    "outputId": "604227ac-6a3b-461b-8ecf-22273ea4bdd7"
   },
   "outputs": [
    {
     "data": {
      "image/png": "[encoded data removed]",
      "text/plain": [
       "<Figure size 2016x504 with 1 Axes>"
      ]
     },
     "metadata": {
      "tags": []
     },
     "output_type": "display_data"
    }
   ],
   "source": [
    "# Get LSTM plot\n",
    "plot_LSTM(meter_reading, a, b, train_data, test_data)"
   ]
  },
  {
   "cell_type": "markdown",
   "metadata": {
    "id": "nonuAzKRxeBw"
   },
   "source": [
    "## Conclusion on LSTM\n",
    "\n",
    "Comparing to Linear Regression, Support Vector Regression(SVR) with Linear Kernel and SVR with Radial Basis Function(RBF) Kernel (done in Question 2), LSTM has a much lower Mean Squared Error. Furthermore, from the LSTM plots obtained, we can observe that the fitted lines (both train and test) are very close to that of the actual lines. With this result, we can confidently forecast future time-series data.  \n",
    "\n",
    "Such good performances can be indebted to the fact that in LSTM, the future data is reliant on the previous data. In addition, gas consumption is highly related to the time of the day; therefore, time is crucial at predicting such consumption. \n",
    "\n",
    "On a side note, the reason why Linear Regression and SVR (Linear and RBF) underperformed when compared to LSTM, is due to the “missing time component” in their algorithms. LSTM outperformed them because it “remembers” the earlier predicted outcome. "
   ]
  },
  {
   "cell_type": "markdown",
   "metadata": {},
   "source": [
    "# Overall Conclusion\n",
    "To conclude, our group believes that Hierarchical Clustering paired with Dynamic Time Warping is suitable for clustering the household, whereas LSTM is suitable for forecasting gas consumption data within Texas, as it has the lowest Mean Squared Error, as compared to other forecasting methods such as Linear Regression, Linear SVR and RBF SVR."
   ]
  },
  {
   "cell_type": "markdown",
   "metadata": {
    "id": "GaVgRbtOxeBw"
   },
   "source": [
    "# References\n",
    "\n",
    "Altché, F., & Fortelle, A. D. L. (2017). An LSTM network for highway trajectory prediction. In Proceedings of the IEEE 20th International Conference on Intelligent Transportation Systems. Piscataway, NJ: IEEE.\n",
    "\n",
    "Amidon, A. (2020, September 22). How to apply K-means clustering to time series data. Medium. https://towardsdatascience.com/how-to-apply-k-means-clustering-to-time-series-data-28d04a8f7da3\n",
    "\n",
    "Dynamic time warping clustering. (n.d.). Cross Validated. https://stats.stackexchange.com/questions/131281/dynamic-time-warping-clustering\n",
    "\n",
    "He, T., & Droppo, J. (2016). Exploiting LSTM structure in deep neural networks for speech recognition. In Proceedings of the IEEE International Conference on Acoustics, Speech and Signal Processing (pp. 5445–5449). Piscataway, NJ: IEEE.\n",
    "\n",
    "Patlolla, C. R. (2020, May 29). Understanding the concept of hierarchical clustering technique. Medium. https://towardsdatascience.com/understanding-the-concept-of-hierarchical-clustering-technique-c6e8243758ec\n",
    "\n",
    "Shyalika, C. (2019, May 24). Dynamic time warping (DTW). Medium. https://medium.com/datadriveninvestor/dynamic-time-warping-dtw-d51d1a1e4afc\n",
    "\n",
    "Understanding dynamic time warping. (2020, September 8). Databricks. https://databricks.com/blog/2019/04/30/understanding-dynamic-time-warping.html\n",
    "\n",
    "What is a distance matrix? (2019, May 15). Displayr. https://www.displayr.com/what-is-a-distance-matrix/\n",
    "\n",
    "Zhang, J. (2020, February 14). Dynamic time warping. Medium. https://towardsdatascience.com/dynamic-time-warping-3933f25fcdd\n",
    "\n"
   ]
  },
  {
   "cell_type": "code",
   "execution_count": null,
   "metadata": {
    "id": "C7K8RsW5xeBw"
   },
   "outputs": [],
   "source": []
  }
 ],
 "metadata": {
  "colab": {
   "collapsed_sections": [
    "0W2WKaQsOKZX",
    "_TkY5sWPOKZY",
    "WDldCA91OKZf",
    "Ba-bmWGMOKZl",
    "GAO_CZ1OOKZq",
    "rdL746o0OKZz",
    "TERPkKDrOKZ1",
    "CFgw3rt5OKZ5",
    "8ZCcZ6OfOKaF",
    "-FKEFX4UOKaH",
    "SxIVLwTYOKaK",
    "KtNJC2J7OKaN",
    "yuPvadI9OKaS",
    "EyGWoLdyOKaV",
    "OjpizAoXOKaX",
    "bYtVF9CQYwEa",
    "O1Xscd1iYwEc",
    "Ep8aT272YwEe",
    "JWMq8brqYwEf",
    "qsTo-fnKYwEh",
    "5TUDU1x_YwE_",
    "0W1ELr32YwFE",
    "TH4o37WGYwFK"
   ],
   "name": "EE4211_Please_give_us_more_than_B_Q3_CompliedV2.ipynb",
   "provenance": []
  },
  "kernelspec": {
   "display_name": "Python 3",
   "language": "python",
   "name": "python3"
  },
  "language_info": {
   "codemirror_mode": {
    "name": "ipython",
    "version": 3
   },
   "file_extension": ".py",
   "mimetype": "text/x-python",
   "name": "python",
   "nbconvert_exporter": "python",
   "pygments_lexer": "ipython3",
   "version": "3.7.4"
  }
 },
 "nbformat": 4,
 "nbformat_minor": 1
}
